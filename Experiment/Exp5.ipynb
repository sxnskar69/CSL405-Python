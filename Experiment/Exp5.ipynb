{
  "metadata": {
    "kernelspec": {
      "name": "python",
      "display_name": "Python (Pyodide)",
      "language": "python"
    },
    "language_info": {
      "codemirror_mode": {
        "name": "python",
        "version": 3
      },
      "file_extension": ".py",
      "mimetype": "text/x-python",
      "name": "python",
      "nbconvert_exporter": "python",
      "pygments_lexer": "ipython3",
      "version": "3.8"
    }
  },
  "nbformat_minor": 5,
  "nbformat": 4,
  "cells": [
    {
      "id": "12617241-2971-4225-9cdb-469556fb5afd",
      "cell_type": "code",
      "source": "class StackDepth:\n    def maximumDepth(self, stringInput: str) -> int:\n        max_depth = 0\n        current_depth = 0\n\n        for char in stringInput:\n            if char == '(':\n                current_depth += 1\n                max_depth = max(max_depth, current_depth)\n            elif char == ')':\n                current_depth -= 1\n\n        return max_depth\n\n\nobj = StackDepth()\nprint(obj.maximumDepth(\"(1+(2*3)+((8)/4))+1\"))  \nprint(obj.maximumDepth(\"(1)+((2))+(((3)))\"))   \nprint(obj.maximumDepth(\"()(())((()()))\"))       \n",
      "metadata": {
        "trusted": true
      },
      "outputs": [
        {
          "name": "stdout",
          "output_type": "stream",
          "text": "3\n3\n3\n"
        }
      ],
      "execution_count": 1
    },
    {
      "id": "600bbe67-eff3-4b81-bf14-b623763706eb",
      "cell_type": "code",
      "source": "",
      "metadata": {
        "trusted": true
      },
      "outputs": [],
      "execution_count": null
    }
  ]
}