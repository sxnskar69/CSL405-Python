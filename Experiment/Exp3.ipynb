{
 "cells": [
  {
   "cell_type": "code",
   "execution_count": 12,
   "metadata": {},
   "outputs": [
    {
     "name": "stdout",
     "output_type": "stream",
     "text": [
      "You are a FrontEnd Developer\n",
      "You are a BackEnd Developer\n",
      "You are a Fullstack\n",
      "You are a Not a developer\n"
     ]
    }
   ],
   "source": [
    "'''\n",
    "General case represents that developer working on \n",
    "frontend cannot work backend development unless he/she is fullstack dev.\n",
    "\n",
    "Write a method named verifier () that checks this condition.\n",
    "\n",
    "The method should check that if frontend is True and backend is True,\n",
    "the method returns Fullstack as string. If one of them is True, it should return\n",
    "the respective desgination, and if none of them are true, it returns,\n",
    "not a developer respetively.\n",
    "'''\n",
    "\n",
    "class Employee:\n",
    "    def __init__ (\n",
    "            self,\n",
    "            designation : str = 'Developer',\n",
    "            frontend : bool = False,\n",
    "            backend : bool = False\n",
    "    ):\n",
    "        self.designation = designation\n",
    "        self.frontend = frontend\n",
    "        self.backend = backend\n",
    "\n",
    "    def __repr__ (self):\n",
    "        return '{}'.format (self.designation, self.frontend, self.backend)\n",
    "    \n",
    "    ### Write the your method over here.\n",
    "    def verifier (self):\n",
    "        if self.frontend and self.backend:\n",
    "            return 'Fullstack'\n",
    "        elif self.frontend:\n",
    "            return \"FrontEnd Developer\"\n",
    "        elif self.backend:\n",
    "            return \"BackEnd Developer\"\n",
    "        else:\n",
    "            return \"Not a developer\"\n",
    "        \n",
    "\n",
    "if __name__ == '__main__':\n",
    "    firstEmployee = Employee (frontend = True)\n",
    "    # SecondEmployee = Employee(backend= False)\n",
    "    ThirdEmployee = Employee(backend= True)\n",
    "    FourthEmployee = Employee(frontend=True, backend=True)\n",
    "    FifthEmployee = Employee(backend= False ,frontend= False)\n",
    "    # Call the method here to display output.\n",
    "    FirstOutput = firstEmployee.verifier()\n",
    "    # SecondOutput = SecondEmployee.verifier()\n",
    "    ThirdOutput = ThirdEmployee.verifier()\n",
    "    FourthOutput = FourthEmployee.verifier()\n",
    "    FifthOutput = FifthEmployee.verifier()\n",
    "    print(f\"You are a {FirstOutput}\")\n",
    "    # print(f\"You are a {SecondOutput}\")\n",
    "    print(f\"You are a {ThirdOutput}\")\n",
    "    print(f\"You are a {FourthOutput}\")\n",
    "    print(f\"You are a {FifthOutput}\")"
   ]
  },
  {
   "cell_type": "code",
   "execution_count": null,
   "metadata": {},
   "outputs": [],
   "source": []
  }
 ],
 "metadata": {
  "kernelspec": {
   "display_name": "base",
   "language": "python",
   "name": "python3"
  },
  "language_info": {
   "codemirror_mode": {
    "name": "ipython",
    "version": 3
   },
   "file_extension": ".py",
   "mimetype": "text/x-python",
   "name": "python",
   "nbconvert_exporter": "python",
   "pygments_lexer": "ipython3",
   "version": "3.11.5"
  }
 },
 "nbformat": 4,
 "nbformat_minor": 2
}
