{
  "metadata": {
    "kernelspec": {
      "name": "python",
      "display_name": "Python (Pyodide)",
      "language": "python"
    },
    "language_info": {
      "codemirror_mode": {
        "name": "python",
        "version": 3
      },
      "file_extension": ".py",
      "mimetype": "text/x-python",
      "name": "python",
      "nbconvert_exporter": "python",
      "pygments_lexer": "ipython3",
      "version": "3.8"
    },
    "colab": {
      "provenance": [],
      "authorship_tag": "ABX9TyPW3247/xpiwRzC6lyOa4CD"
    }
  },
  "nbformat_minor": 4,
  "nbformat": 4,
  "cells": [
    {
      "cell_type": "code",
      "source": " # Remove the pass and call the function to perform write.\n    # Read the file that was created while writing.\n    # Make the changes in the file by appending some material.\n    # Again read the same file.\n\n'''\nPrint all the output of the function.\nFor better representation, please use jupyter.\nWill also aid in easy maintanence of files for submissions.\n'''\n\nfrom contextlib import contextmanager\n\n@contextmanager\ndef genericFileFunction (filename, method):\n    file = open (filename, method)\n    yield file\n    file.close ()\n\nif __name__ == '__main__':\n    try:\n        with genericFileFunction(\"trial.txt\",\"w\") as f:\n            f.write(\"Hello, I am Sanskar.\")\n            print(\"\\nWriting complete!\")\n\n        with genericFileFunction(\"trial.txt\",\"r\") as f:\n            print(f.read())\n\n        with genericFileFunction(\"trial.txt\",\"a\") as f:\n            f.write(\" I am a student.\")\n            print(\"\\nAppending complete!\")\n\n        with genericFileFunction(\"trial.txt\",\"r\") as f:\n            print(f.read())\n\n    except Exception as e:\n        print(e)\n",
      "metadata": {
        "colab": {
          "base_uri": "https://localhost:8080/"
        },
        "id": "fWdU3Cv5Zh8u",
        "executionInfo": {
          "status": "ok",
          "timestamp": 1739353406178,
          "user_tz": -330,
          "elapsed": 587,
          "user": {
            "displayName": "pranavakumar.234896101 vcet",
            "userId": "14225546635330982382"
          }
        },
        "outputId": "f15885e1-ff28-4e07-c64e-fa7fcf1f7ba6",
        "trusted": true
      },
      "outputs": [
        {
          "name": "stdout",
          "output_type": "stream",
          "text": "\nWriting complete!\nHello, I am Sanskar.\n\nAppending complete!\nHello, I am Sanskar. I am a student.\n"
        }
      ],
      "execution_count": 1
    },
    {
      "cell_type": "code",
      "source": "",
      "metadata": {
        "id": "W927JwT0dQgQ"
      },
      "outputs": [],
      "execution_count": null
    }
  ]
}