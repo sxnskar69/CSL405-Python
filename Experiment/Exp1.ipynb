{
 "cells": [
  {
   "cell_type": "markdown",
   "id": "99d55546-0bb6-481f-9979-33d0cdaeaaae",
   "metadata": {},
   "source": [
    "<b>Strings in Python</b>"
   ]
  },
  {
   "cell_type": "code",
   "execution_count": 1,
   "id": "4e926358-807b-4792-beb5-1514389fe2a0",
   "metadata": {},
   "outputs": [
    {
     "name": "stdout",
     "output_type": "stream",
     "text": [
      "This is a string\n",
      "This is a string\n",
      "This is a string\n"
     ]
    }
   ],
   "source": [
    "# Assigning string to a variable\n",
    "a = 'This is a string'\n",
    "print (a)\n",
    "b = \"This is a string\"\n",
    "print (b)\n",
    "c= '''This is a string'''\n",
    "print (c)"
   ]
  },
  {
   "cell_type": "markdown",
   "id": "d303f506-e8b1-4d37-b05e-aece58ce1dc9",
   "metadata": {},
   "source": [
    "<b>Lists in Python</b>"
   ]
  },
  {
   "cell_type": "code",
   "execution_count": 2,
   "id": "1e528922-06d6-4161-8810-887504cd269b",
   "metadata": {},
   "outputs": [
    {
     "name": "stdout",
     "output_type": "stream",
     "text": [
      "[1, 'a', 'string', 3]\n",
      "[1, 'a', 'string', 3, 6]\n",
      "[1, 'a', 'string', 3]\n",
      "a\n"
     ]
    }
   ],
   "source": [
    "# Declaring a list\n",
    "L = [1, \"a\" , \"string\" , 1+2]\n",
    "print (L)\n",
    "#Adding an element in the list\n",
    "L.append(6) \n",
    "print (L)\n",
    "#Deleting last element from a list\n",
    "L.pop()\n",
    "print (L)\n",
    "#Displaying Second element of the list\n",
    "print (L[1])\n"
   ]
  },
  {
   "cell_type": "markdown",
   "id": "f4a9246f-5a77-4db9-bac5-0467a50291f7",
   "metadata": {},
   "source": [
    "<b>Tuples in Python</b>"
   ]
  },
  {
   "cell_type": "code",
   "execution_count": 3,
   "id": "5ff2d431-6e41-465d-aefe-7aee4174deb0",
   "metadata": {},
   "outputs": [
    {
     "name": "stdout",
     "output_type": "stream",
     "text": [
      "(1, 'a', 'string', 3)\n",
      "a\n"
     ]
    }
   ],
   "source": [
    "tup = (1, \"a\", \"string\", 1+2)\n",
    "print(tup)\n",
    "print(tup[1])"
   ]
  },
  {
   "cell_type": "markdown",
   "id": "137054b6-3de0-4697-8eca-b2e2f3528784",
   "metadata": {},
   "source": [
    "<b>Dictionaries in Python</b>"
   ]
  },
  {
   "cell_type": "code",
   "execution_count": 4,
   "id": "bde8b5c5-66e0-41dd-a764-ea94fa8dc693",
   "metadata": {},
   "outputs": [
    {
     "name": "stdout",
     "output_type": "stream",
     "text": [
      "{1: 'Lorem', 2: 'Ipsum', 3: 'Dolerum'}\n"
     ]
    }
   ],
   "source": [
    "\n",
    "d = {1: 'Lorem', 2: 'Ipsum', 3: 'Dolerum'}\n",
    "print(d)"
   ]
  },
  {
   "cell_type": "markdown",
   "id": "68417350-9d20-44d2-ab93-ab1b5f5b00f2",
   "metadata": {},
   "source": [
    "<b>Create a Dictionary</b>"
   ]
  },
  {
   "cell_type": "code",
   "execution_count": 6,
   "id": "39b2aeba-d95a-42f4-bab2-9e7ebeeb55a7",
   "metadata": {},
   "outputs": [
    {
     "name": "stdout",
     "output_type": "stream",
     "text": [
      "{1: 'Game', 2: 'of', 3: 'Thrones'}\n",
      "{'a': 'House', 'b': 'of', 'c': 'Cards'}\n"
     ]
    }
   ],
   "source": [
    "# create dictionary using { }\n",
    "d1 = {1: 'Game', 2: 'of', 3: 'Thrones'}\n",
    "print(d1)\n",
    "\n",
    "# create dictionary using dict() constructor\n",
    "d2 = dict(a = \"House\", b = \"of\", c = \"Cards\")\n",
    "print(d2)"
   ]
  },
  {
   "cell_type": "markdown",
   "id": "cba75393-b417-4b60-befc-4ff8e0ce762b",
   "metadata": {},
   "source": [
    "<b>Accessing Dictionary Items</b>"
   ]
  },
  {
   "cell_type": "code",
   "execution_count": 7,
   "id": "b0256f22-cc34-4b10-8bab-11a983ff2bbc",
   "metadata": {},
   "outputs": [
    {
     "name": "stdout",
     "output_type": "stream",
     "text": [
      "Alice\n",
      "Alice\n"
     ]
    }
   ],
   "source": [
    "d = { \"name\": \"Alice\", 1: \"Python\", (1, 2): [1,2,4] }\n",
    "\n",
    "# Access using key\n",
    "print(d[\"name\"])\n",
    "\n",
    "# Access using get()\n",
    "print(d.get(\"name\"))"
   ]
  },
  {
   "cell_type": "markdown",
   "id": "a941cb6a-a5b9-453d-a517-83a43e17303e",
   "metadata": {},
   "source": [
    "<B>Adding and Updating Dictionary Items</B>"
   ]
  },
  {
   "cell_type": "code",
   "execution_count": 8,
   "id": "cbe1bde2-cbed-40ad-9ab1-5da06993bfaf",
   "metadata": {},
   "outputs": [
    {
     "name": "stdout",
     "output_type": "stream",
     "text": [
      "{1: 'Python dict', 2: 'of', 3: 'Thrones', 'age': 22}\n"
     ]
    }
   ],
   "source": [
    "\n",
    "d = {1: 'Game', 2: 'of', 3: 'Thrones'}\n",
    "\n",
    "# Adding a new key-value pair\n",
    "d[\"age\"] = 22\n",
    "\n",
    "# Updating an existing value\n",
    "d[1] = \"Python dict\"\n",
    "\n",
    "print(d)"
   ]
  },
  {
   "cell_type": "markdown",
   "id": "3b8023b0-bfb1-4cdd-921d-0be418cb80fc",
   "metadata": {},
   "source": [
    "<B>Deleting an element from dictionary</B>"
   ]
  },
  {
   "cell_type": "code",
   "execution_count": 14,
   "id": "880720f9-d901-4d9a-89ac-2a84abfcecc9",
   "metadata": {},
   "outputs": [
    {
     "name": "stdout",
     "output_type": "stream",
     "text": [
      "Game\n",
      "{2: 'of', 3: 'Thrones'}\n",
      "{3: 'Thrones', 1: 'Game'}\n"
     ]
    }
   ],
   "source": [
    "d = {1: 'Game', 2: 'of', 3: 'Thrones'}\n",
    "\n",
    "val = d.pop(1)\n",
    "print(val)\n",
    "print(d)\n",
    "\n",
    "d[1] = \"Game\"\n",
    "del d[2]\n",
    "print(d)"
   ]
  },
  {
   "cell_type": "code",
   "execution_count": null,
   "id": "d9da77a9-c5bc-49f9-9d41-c7f50d9330c8",
   "metadata": {},
   "outputs": [],
   "source": []
  }
 ],
 "metadata": {
  "kernelspec": {
   "display_name": "Python 3 (ipykernel)",
   "language": "python",
   "name": "python3"
  },
  "language_info": {
   "codemirror_mode": {
    "name": "ipython",
    "version": 3
   },
   "file_extension": ".py",
   "mimetype": "text/x-python",
   "name": "python",
   "nbconvert_exporter": "python",
   "pygments_lexer": "ipython3",
   "version": "3.13.1"
  }
 },
 "nbformat": 4,
 "nbformat_minor": 5
}
